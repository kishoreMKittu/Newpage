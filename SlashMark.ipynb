{
  "nbformat": 4,
  "nbformat_minor": 0,
  "metadata": {
    "colab": {
      "provenance": [],
      "authorship_tag": "ABX9TyOGC321/c/zV3J/u7098UII",
      "include_colab_link": true
    },
    "kernelspec": {
      "name": "python3",
      "display_name": "Python 3"
    },
    "language_info": {
      "name": "python"
    }
  },
  "cells": [
    {
      "cell_type": "markdown",
      "metadata": {
        "id": "view-in-github",
        "colab_type": "text"
      },
      "source": [
        "<a href=\"https://colab.research.google.com/github/kishoreMKittu/Newpage/blob/main/SlashMark.ipynb\" target=\"_parent\"><img src=\"https://colab.research.google.com/assets/colab-badge.svg\" alt=\"Open In Colab\"/></a>"
      ]
    },
    {
      "cell_type": "markdown",
      "source": [
        "# Password Generator\n"
      ],
      "metadata": {
        "id": "0yuuBQoOZOvk"
      }
    },
    {
      "cell_type": "code",
      "execution_count": 1,
      "metadata": {
        "colab": {
          "base_uri": "https://localhost:8080/"
        },
        "id": "iw3Y2CFrYglg",
        "outputId": "618e4d88-0b3c-430e-9ec0-15a316977bf8"
      },
      "outputs": [
        {
          "output_type": "stream",
          "name": "stdout",
          "text": [
            "How many passwords do you want to generate? 3\n",
            "Generating 3 passwords\n",
            "Minimum length of password should be 3\n",
            "Enter the length of Password #1 5\n",
            "Enter the length of Password #2 4\n",
            "Enter the length of Password #3 4\n",
            "Password #1 = 3gZzr\n",
            "Password #2 = s5uT\n",
            "Password #3 = j2Ir\n"
          ]
        }
      ],
      "source": [
        "import random\n",
        "\n",
        "def generatePassword(pwlength):\n",
        "    alphabet = \"abcdefghijklmnopqrstuvwxyz\"\n",
        "    passwords = []\n",
        "\n",
        "    for length in pwlength:  # Iterate up to the specified password length\n",
        "        password = \"\"\n",
        "        for _ in range(length):  # Use _ as a throwaway variable\n",
        "            next_letter_index = random.randrange(len(alphabet))\n",
        "            password += alphabet[next_letter_index]\n",
        "\n",
        "        password = replaceWithNumber(password)\n",
        "        password = replaceWithUppercaseLetter(password)\n",
        "\n",
        "        passwords.append(password)\n",
        "\n",
        "    return passwords\n",
        "\n",
        "def replaceWithNumber(pword):\n",
        "    for _ in range(random.randrange(1, 3)):\n",
        "        replace_index = random.randrange(len(pword) // 2)\n",
        "        pword = pword[0:replace_index] + str(random.randrange(10)) + pword[replace_index+1:]\n",
        "    return pword\n",
        "\n",
        "def replaceWithUppercaseLetter(pword):\n",
        "    for _ in range(random.randrange(1, 3)):\n",
        "        replace_index = random.randrange(len(pword) // 2, len(pword))\n",
        "        pword = pword[0:replace_index] + pword[replace_index].upper() + pword[replace_index+1:]\n",
        "    return pword\n",
        "\n",
        "def main():\n",
        "    numPasswords = int(input(\"How many passwords do you want to generate? \"))\n",
        "    print(\"Generating \" + str(numPasswords) + \" passwords\")\n",
        "    passwordLengths = []\n",
        "\n",
        "    print(\"Minimum length of password should be 3\")\n",
        "\n",
        "    for i in range(numPasswords):\n",
        "        length = int(input(\"Enter the length of Password #\" + str(i+1) + \" \"))\n",
        "        if length < 3:\n",
        "            length = 3\n",
        "        passwordLengths.append(length)\n",
        "\n",
        "    Passwords = generatePassword(passwordLengths)\n",
        "\n",
        "    for i in range(numPasswords):\n",
        "        print(\"Password #\" + str(i+1) + \" = \" + Passwords[i])\n",
        "\n",
        "if __name__ == \"__main__\":\n",
        "    main()\n"
      ]
    },
    {
      "cell_type": "markdown",
      "source": [
        "# Number Guess Game"
      ],
      "metadata": {
        "id": "S6mKDO_9ZNLg"
      }
    },
    {
      "cell_type": "code",
      "source": [
        "import random #bring in the random number\n",
        "import time\n",
        "number=random.randint(1, 200) #pick the number between 1 and 200\n",
        "\n",
        "def intro():\n",
        "    print(\"May I ask you for your name?\")\n",
        "    name=input() #asks for the name\n",
        "    print(name + \", we are going to play a game. I am thinking of a number between 1 and 200\")\n",
        "    time.sleep(.5)\n",
        "    print(\"Go ahead. Guess!\")\n",
        "\n",
        "def pick():\n",
        "    guessesTaken = 0\n",
        "    while guessesTaken < 6: #if the number of guesses is less than 6\n",
        "        time.sleep(.25)\n",
        "        enter=input(\"Guess: \") #inserts the place to enter guess\n",
        "        try: #check if a number was entered\n",
        "            guess = int(enter) #stores the guess as an integer instead of a string\n",
        "\n",
        "            if guess<=200 and guess>=1: #if they are in range\n",
        "                guessesTaken=guessesTaken+1 #adds one guess each time the player is wrong\n",
        "                if guessesTaken<6:\n",
        "                    if guess<number:\n",
        "                        print(\"The guess of the number that you have entered is too low\")\n",
        "                    if guess>number:\n",
        "                        print(\"The guess of the number that you have entered is too high\")\n",
        "                    if guess != number:\n",
        "                        time.sleep(.5)\n",
        "                        print(\"Try Again!\")\n",
        "                if guess==number:\n",
        "                    break #if the guess is right, then we are going to jump out of the while block\n",
        "            if guess>200 or guess<1: #if they aren't in the range\n",
        "                print(\"Silly Goose! That number isn't in the range!\")\n",
        "                time.sleep(.25)\n",
        "                print(\"Please enter a number between 1 and 200\")\n",
        "\n",
        "        except: #if a number wasn't entered\n",
        "            print(\"I don't think that \"+enter+\" is a number. Sorry\")\n",
        "\n",
        "    if guess == number:\n",
        "        guessesTaken = str(guessesTaken)\n",
        "        print('Good job, ' + name + '! You guessed my number in ' + guessesTaken + ' guesses!')\n",
        "\n",
        "    if guess != number:\n",
        "        print('Nope. The number I was thinking of was ' + str(number))\n",
        "\n",
        "playagain=\"yes\"\n",
        "while playagain==\"yes\" or playagain==\"y\" or playagain==\"Yes\":\n",
        "    intro()\n",
        "    pick()\n",
        "    print(\"Do you want to play again?\")\n",
        "    playagain=input()"
      ],
      "metadata": {
        "colab": {
          "base_uri": "https://localhost:8080/"
        },
        "id": "SfWY81EcZgVV",
        "outputId": "94c10928-2737-4e76-e5dc-ea50376ee976"
      },
      "execution_count": 6,
      "outputs": [
        {
          "name": "stdout",
          "output_type": "stream",
          "text": [
            "May I ask you for your name?\n",
            "M Kishore\n",
            "M Kishore, we are going to play a game. I am thinking of a number between 1 and 200\n",
            "Go ahead. Guess!\n",
            "Guess: 45\n",
            "The guess of the number that you have entered is too low\n",
            "Try Again!\n",
            "Guess: 47\n",
            "The guess of the number that you have entered is too low\n",
            "Try Again!\n",
            "Guess: 56\n",
            "The guess of the number that you have entered is too low\n",
            "Try Again!\n",
            "Guess: 67\n",
            "The guess of the number that you have entered is too low\n",
            "Try Again!\n",
            "Guess: 78\n",
            "The guess of the number that you have entered is too low\n",
            "Try Again!\n",
            "Guess: 87\n",
            "Nope. The number I was thinking of was 103\n",
            "Do you want to play again?\n",
            "no\n"
          ]
        }
      ]
    },
    {
      "cell_type": "markdown",
      "source": [
        "Simple TO-Do Application"
      ],
      "metadata": {
        "id": "YKejgVOcZ4lO"
      }
    },
    {
      "cell_type": "code",
      "source": [
        "# Define an empty list to store tasks\n",
        "tasks = []\n",
        "\n",
        "# Function to display the to-do list\n",
        "def display_tasks():\n",
        "    if not tasks:\n",
        "        print(\"Your to-do list is empty.\")\n",
        "    else:\n",
        "        print(\"To-Do List:\")\n",
        "        for i, task in enumerate(tasks, start=1):\n",
        "            status = \"Done\" if task[\"completed\"] else \"Not Done\"\n",
        "            print(f\"{i}. {task['task']} ({status})\")\n",
        "\n",
        "# Function to add a task to the to-do list\n",
        "def add_task(task_name):\n",
        "    task = {\"task\": task_name, \"completed\": False}\n",
        "    tasks.append(task)\n",
        "    print(f\"Task '{task_name}' added to your to-do list.\")\n",
        "\n",
        "# Function to mark a task as completed\n",
        "def mark_completed(task_number):\n",
        "    if 1 <= task_number <= len(tasks):\n",
        "        tasks[task_number - 1][\"completed\"] = True\n",
        "        print(f\"Task {task_number} marked as completed.\")\n",
        "    else:\n",
        "        print(\"Invalid task number. Please enter a valid task number.\")\n",
        "\n",
        "# Function to remove a task from the to-do list\n",
        "def remove_task(task_number):\n",
        "    if 1 <= task_number <= len(tasks):\n",
        "        removed_task = tasks.pop(task_number - 1)\n",
        "        print(f\"Task '{removed_task['task']}' removed from your to-do list.\")\n",
        "    else:\n",
        "        print(\"Invalid task number. Please enter a valid task number.\")\n",
        "\n",
        "# Main program loop\n",
        "while True:\n",
        "    print(\"\\nOptions:\")\n",
        "    print(\"1. Display to-do list\")\n",
        "    print(\"2. Add a task\")\n",
        "    print(\"3. Mark a task as completed\")\n",
        "    print(\"4. Remove a task\")\n",
        "    print(\"5. Quit\")\n",
        "    choice = input(\"Enter your choice: \")\n",
        "\n",
        "    if choice == '1':\n",
        "        display_tasks()\n",
        "    elif choice == '2':\n",
        "        task_name = input(\"Enter the task: \")\n",
        "        add_task(task_name)\n",
        "    elif choice == '3':\n",
        "        display_tasks()\n",
        "        task_number = int(input(\"Enter the task number to mark as completed: \"))\n",
        "        mark_completed(task_number)\n",
        "    elif choice == '4':\n",
        "        display_tasks()\n",
        "        task_number = int(input(\"Enter the task number to remove: \"))\n",
        "        remove_task(task_number)\n",
        "    elif choice == '5':\n",
        "        break\n",
        "    else:\n",
        "        print(\"Invalid choice. Please enter a valid option.\")\n"
      ],
      "metadata": {
        "colab": {
          "base_uri": "https://localhost:8080/"
        },
        "id": "CerXRpPJZ-bI",
        "outputId": "b4d858ee-05c2-4711-bd62-1646309843e6"
      },
      "execution_count": 7,
      "outputs": [
        {
          "name": "stdout",
          "output_type": "stream",
          "text": [
            "\n",
            "Options:\n",
            "1. Display to-do list\n",
            "2. Add a task\n",
            "3. Mark a task as completed\n",
            "4. Remove a task\n",
            "5. Quit\n",
            "Enter your choice: 2\n",
            "Enter the task: hi how are you\n",
            "Task 'hi how are you' added to your to-do list.\n",
            "\n",
            "Options:\n",
            "1. Display to-do list\n",
            "2. Add a task\n",
            "3. Mark a task as completed\n",
            "4. Remove a task\n",
            "5. Quit\n",
            "Enter your choice: 2\n",
            "Enter the task: where are you from?\n",
            "Task 'where are you from?' added to your to-do list.\n",
            "\n",
            "Options:\n",
            "1. Display to-do list\n",
            "2. Add a task\n",
            "3. Mark a task as completed\n",
            "4. Remove a task\n",
            "5. Quit\n",
            "Enter your choice: 1\n",
            "To-Do List:\n",
            "1. hi how are you (Not Done)\n",
            "2. where are you from? (Not Done)\n",
            "\n",
            "Options:\n",
            "1. Display to-do list\n",
            "2. Add a task\n",
            "3. Mark a task as completed\n",
            "4. Remove a task\n",
            "5. Quit\n",
            "Enter your choice: 5\n"
          ]
        }
      ]
    }
  ]
}